{
 "cells": [
  {
   "cell_type": "markdown",
   "metadata": {},
   "source": [
    "### 1. Write a function using only list filter lambda that can tell whether a number is a Fibonacci number or not. You can use a pre-calculated list/dict to store fab numbers till 10000 PTS:100"
   ]
  },
  {
   "cell_type": "code",
   "execution_count": 26,
   "metadata": {},
   "outputs": [
    {
     "data": {
      "text/plain": [
       "{1,\n",
       " 2,\n",
       " 3,\n",
       " 5,\n",
       " 8,\n",
       " 13,\n",
       " 21,\n",
       " 34,\n",
       " 55,\n",
       " 89,\n",
       " 144,\n",
       " 233,\n",
       " 377,\n",
       " 610,\n",
       " 987,\n",
       " 1597,\n",
       " 2584,\n",
       " 4181,\n",
       " 6765,\n",
       " 10946}"
      ]
     },
     "execution_count": 26,
     "metadata": {},
     "output_type": "execute_result"
    }
   ],
   "source": [
    "a = b = 1\n",
    "feb_nums = {a, b}\n",
    "\n",
    "for x in range(3, 100):\n",
    "    c = a + b\n",
    "    a, b = b, c\n",
    "    feb_nums.add(c)\n",
    "    if(c >= 10000):\n",
    "        break\n",
    "\n",
    "\n",
    "feb_nums"
   ]
  },
  {
   "cell_type": "code",
   "execution_count": 27,
   "metadata": {},
   "outputs": [],
   "source": [
    "is_feb_num = lambda x : x in feb_nums\n",
    "    "
   ]
  },
  {
   "cell_type": "code",
   "execution_count": 28,
   "metadata": {},
   "outputs": [
    {
     "data": {
      "text/plain": [
       "True"
      ]
     },
     "execution_count": 28,
     "metadata": {},
     "output_type": "execute_result"
    }
   ],
   "source": [
    "is_feb_num(377)"
   ]
  },
  {
   "cell_type": "markdown",
   "metadata": {},
   "source": [
    "### Using list comprehension (and zip/lambda/etc if required) write five different expressions that:\n"
   ]
  },
  {
   "cell_type": "code",
   "execution_count": 36,
   "metadata": {},
   "outputs": [
    {
     "data": {
      "text/plain": [
       "([0, 2, 4, 6, 8], [1, 3, 5, 7, 9], [1, 5, 9, 13, 17])"
      ]
     },
     "execution_count": 36,
     "metadata": {},
     "output_type": "execute_result"
    }
   ],
   "source": [
    "#add 2 iterables a and b such that a is even and b is odd\n",
    "\n",
    "a = [x for x in range(10) if x % 2 == 0]\n",
    "b = [x for x in range(10) if x % 2 != 0]\n",
    "\n",
    "c = [x + y for x, y in zip(a, b)]\n",
    "a, b, c"
   ]
  },
  {
   "cell_type": "code",
   "execution_count": 53,
   "metadata": {},
   "outputs": [
    {
     "data": {
      "text/plain": [
       "'ts  '"
      ]
     },
     "execution_count": 53,
     "metadata": {},
     "output_type": "execute_result"
    }
   ],
   "source": [
    "#strips every vowel from a string provided (tsai>>t s)\n",
    "vowels = \"aeiou\"\n",
    "strip_vowels = lambda string : ''.join(map(lambda x : x if x not in vowels else \" \", string))\n",
    "strip_vowels('tsai')"
   ]
  },
  {
   "cell_type": "code",
   "execution_count": 61,
   "metadata": {},
   "outputs": [
    {
     "ename": "TypeError",
     "evalue": "'int' object is not callable",
     "output_type": "error",
     "traceback": [
      "\u001b[0;31m---------------------------------------------------------------------------\u001b[0m",
      "\u001b[0;31mTypeError\u001b[0m                                 Traceback (most recent call last)",
      "\u001b[0;32m<ipython-input-61-9d1aa98836f7>\u001b[0m in \u001b[0;36m<module>\u001b[0;34m\u001b[0m\n\u001b[1;32m      3\u001b[0m \u001b[0marr\u001b[0m \u001b[0;34m=\u001b[0m \u001b[0;34m[\u001b[0m\u001b[0mrandom\u001b[0m\u001b[0;34m.\u001b[0m\u001b[0muniform\u001b[0m\u001b[0;34m(\u001b[0m\u001b[0;34m-\u001b[0m\u001b[0;36m10\u001b[0m\u001b[0;34m,\u001b[0m \u001b[0;36m10\u001b[0m\u001b[0;34m)\u001b[0m \u001b[0;32mfor\u001b[0m \u001b[0mx\u001b[0m \u001b[0;32min\u001b[0m \u001b[0mrange\u001b[0m \u001b[0;34m(\u001b[0m\u001b[0;36m10\u001b[0m\u001b[0;34m)\u001b[0m\u001b[0;34m]\u001b[0m\u001b[0;34m\u001b[0m\u001b[0;34m\u001b[0m\u001b[0m\n\u001b[1;32m      4\u001b[0m \u001b[0;34m\u001b[0m\u001b[0m\n\u001b[0;32m----> 5\u001b[0;31m \u001b[0marr_after_relu\u001b[0m \u001b[0;34m=\u001b[0m \u001b[0mlist\u001b[0m\u001b[0;34m(\u001b[0m\u001b[0mmap\u001b[0m\u001b[0;34m(\u001b[0m\u001b[0mx\u001b[0m \u001b[0;32mif\u001b[0m \u001b[0mx\u001b[0m \u001b[0;34m>\u001b[0m\u001b[0;36m0\u001b[0m \u001b[0;32melse\u001b[0m \u001b[0;36m0\u001b[0m\u001b[0;34m,\u001b[0m \u001b[0marr\u001b[0m\u001b[0;34m)\u001b[0m\u001b[0;34m)\u001b[0m\u001b[0;34m\u001b[0m\u001b[0;34m\u001b[0m\u001b[0m\n\u001b[0m\u001b[1;32m      6\u001b[0m \u001b[0marr\u001b[0m\u001b[0;34m,\u001b[0m \u001b[0marr_after_relu\u001b[0m\u001b[0;34m\u001b[0m\u001b[0;34m\u001b[0m\u001b[0m\n",
      "\u001b[0;31mTypeError\u001b[0m: 'int' object is not callable"
     ]
    }
   ],
   "source": [
    "#acts like a ReLU function for a 1D array\n",
    "import random\n",
    "arr = [random.uniform(-10, 10) for x in range (10)]\n",
    "\n",
    "arr_after_relu = list(map(lambda x : x if x >0 else 0, arr))\n",
    "arr, arr_after_relu"
   ]
  },
  {
   "cell_type": "code",
   "execution_count": 62,
   "metadata": {},
   "outputs": [
    {
     "data": {
      "text/plain": [
       "([9.387396545125938,\n",
       "  4.895377363969182,\n",
       "  0.3883663134606046,\n",
       "  -4.6818656205896,\n",
       "  7.377851077154002,\n",
       "  8.31556523421962,\n",
       "  -2.1986612144527085,\n",
       "  -5.581807618791004,\n",
       "  2.9789290922586975,\n",
       "  1.8155511849015955],\n",
       " [0.9999162337448617,\n",
       "  0.9925744654604989,\n",
       "  0.5958893607383187,\n",
       "  0.009176726643017177,\n",
       "  0.9993754479120031,\n",
       "  0.9997553812991586,\n",
       "  0.09987077694039904,\n",
       "  0.003751624629016473,\n",
       "  0.9516130845087132,\n",
       "  0.8600314477214291])"
      ]
     },
     "execution_count": 62,
     "metadata": {},
     "output_type": "execute_result"
    }
   ],
   "source": [
    "#acts like a sigmoid function for a 1D array\n",
    "arr = [random.uniform(-10, 10) for x in range (10)]\n",
    "\n",
    "import math\n",
    "\n",
    "\n",
    "arr_after_sig = list(map(lambda x : 1 / (1 + math.exp(-x)), arr))\n",
    "\n",
    "arr, arr_after_sig"
   ]
  },
  {
   "cell_type": "markdown",
   "metadata": {},
   "source": [
    "### A list comprehension expression that takes a ~200 word paragraph (write your own paragraph to check), and checks whether it has any of the swear words mentioned in https://github.com/RobertJGabriel/Google-profanity-words/blob/master/list.txt"
   ]
  },
  {
   "cell_type": "code",
   "execution_count": 95,
   "metadata": {},
   "outputs": [],
   "source": [
    "text = \"\"\"As the billionaire Mistry fuck fuck clan and the Tata conglomerate head for a bitter split, they are already preparing for their next battle: the value of a stake in Tata Sons Pvt., which is at the center of India’s biggest corporate feud.\n",
    "\n",
    "The Mistry family-owned Shapoorji Pallonji Group holds 18.4% of the holding company of the software-to-trucks Tata empire, and wants to sell it and raise funds for its own cash-strapped businesses. It had previously sought to pledge the shares as collateral, but was blocked this week when Tata told the Supreme Court it was open to buying the stock itself if Mistrys needed money.\n",
    "\n",
    "But the focus of the years-long dispute could now shift to what each party thinks is the fair valuation of the stake. While court filings peg it at more than 1.5 trillion rupees ($20.3 billion), the eventual deal value will depend on which side can drive a hard bargain.\n",
    "\n",
    "The indebted SP Group, with upcoming debt maturities, may prefer a quick deal. Even at depressed valuations, it won’t be easy for the Tata Group or any other investor to fork out such a sum at a time when many economies, including India’s, have been ravaged by the coronavirus pandemic.\n",
    "\n",
    "“The parting of ways will lie in the details as it is not clear they will quickly agree to a valuation,” said Shriram Subramanian, founder of proxy advisory firm InGovern Research Services Pvt. in Bangalore. “Additionally, Tata group is in no hurry while the SP group is hard-pressed for funding.”.\n",
    "Easy exit\n",
    "For outside investors, the initial charm of buying into the holding company of the $113 billion conglomerate quickly fades when they see Tata Sons is closely held. The lack of an easy exit may make it less appealing to private equity investors or sovereign funds that keep a sharp eye on returns.\n",
    "\n",
    "Any stakeholder in Tata Sons, under the amended Articles of Association, may be first required to offer its equity to the Tatas before seeking out other investors, according to a person familiar with the matter and court documents.\n",
    "\n",
    "Tata Sons declined to comment on the possible stake sale while SP Group did not offer any immediate comments.\n",
    "\n",
    "The potential disagreement over the stake value is the latest chapter in a four-year-old wrangle that started with a boardroom coup in 2016 at Tata Sons. It led to the abrupt ouster of Cyrus Mistry as Tata Group chairman and sparked India’s biggest corporate battle. Cyrus, 52, is the son of billionaire Pallonji Mistry, 91, who controls the 155-year-old SP Group.\n",
    "\n",
    "After succeeding Ratan Tata in 2012 as chairman of Tata Sons, Cyrus Mistry sought to reduce the conglomerate’s debt in ways that threatened to undo the legacy of the Tata patriarch — who spearheaded the purchases of Jaguar Land Rover and British steelmaker Corus Group — resulting in his removal.\n",
    "\n",
    "Tata Trusts — a collective of charities headed by Tata Sons Chairman Emeritus Ratan Tata — owns 66% in Tata Sons but isn’t legally allowed to buy more shares on their own.\n",
    "\n",
    "Tata, 82, is drawing up plans to seek out potential partners that could buy out the Mistry family’s stake in Tata Sons, people familiar with the matter said, asking not to be identified as the information is private.\n",
    "\n",
    "Back in 2016, days after Cyrus Mistry’s removal, the Tata family trusts were assessing the interest of sovereign wealth funds and other long-term investors, but the Mistry family wasn’t keen to sell at the time, people familiar with the matter said then.\n",
    "\n",
    "Despite the challenges, the possibility of the Tata stake sale has buoyed the stocks of SP Group’s listed firms. Sterling & Wilson Solar Ltd. has jumped 20% in Mumbai since the Mistry family announced its intention to sell while Forbes & Co. has advanced almost 16%.\n",
    "\n",
    "Shock expulsion\n",
    "Since his shock expulsion, Cyrus has filed legal challenges to his dismissal from the board of Tata Sons and argued against Tata Sons turning into a private limited company — a move that has restricted the Mistry family’s ability to sell its stake freely.\n",
    "\n",
    "Pallonji Mistry has a net worth of $21.4 billion, most of it due to his holding in the Tata Group, according to the Bloomberg Billionaires Index.\n",
    "\n",
    "In a legal battle over the status of the Tata stake, India’s Supreme Court on Sept. 22 barred the Mistrys from pledging or selling any Tata shares until Oct. 28, after Tata told the court it can buy the Mistry family’s holdings if the latter needed funds.\n",
    "\n",
    "Hours later, the SP Group signaled its intent to sell, calling the Tata move “vindictive” and saying it “believes that a separation of interests would best serve all stakeholder groups.”\n",
    "\n",
    "The SP Group had 92.8 billion rupees in external debt at its main holding vehicle, Shapoorji Pallonji and Company Pvt., as of end-February, according to Care Ratings Ltd., while the group-wide debt was estimated to be more than 300 billion rupees as of March 2019. – Bloomberg\n",
    "\n",
    "Disclosure: Tata Group’s chairman emeritus Ratan Tata is among the distinguished founder-investors of ThePrint. Please click here for details on investors.\"\"\""
   ]
  },
  {
   "cell_type": "code",
   "execution_count": 96,
   "metadata": {},
   "outputs": [
    {
     "name": "stdout",
     "output_type": "stream",
     "text": [
      "Requirement already satisfied: nltk in /usr/local/anaconda3/lib/python3.8/site-packages (3.5)\n",
      "Requirement already satisfied: tqdm in /usr/local/anaconda3/lib/python3.8/site-packages (from nltk) (4.47.0)\n",
      "Requirement already satisfied: click in /usr/local/anaconda3/lib/python3.8/site-packages (from nltk) (7.1.2)\n",
      "Requirement already satisfied: regex in /usr/local/anaconda3/lib/python3.8/site-packages (from nltk) (2020.6.8)\n",
      "Requirement already satisfied: joblib in /usr/local/anaconda3/lib/python3.8/site-packages (from nltk) (0.16.0)\n"
     ]
    }
   ],
   "source": [
    "!pip install nltk\n",
    "\n",
    "import nltk\n",
    "from nltk import sent_tokenize\n",
    "from nltk import word_tokenize"
   ]
  },
  {
   "cell_type": "code",
   "execution_count": 97,
   "metadata": {},
   "outputs": [
    {
     "name": "stderr",
     "output_type": "stream",
     "text": [
      "[nltk_data] Downloading package punkt to\n",
      "[nltk_data]     /Users/penumarthi.kiran/nltk_data...\n",
      "[nltk_data]   Package punkt is already up-to-date!\n"
     ]
    },
    {
     "data": {
      "text/plain": [
       "True"
      ]
     },
     "execution_count": 97,
     "metadata": {},
     "output_type": "execute_result"
    }
   ],
   "source": [
    "import nltk\n",
    "import ssl\n",
    "\n",
    "try:\n",
    "    _create_unverified_https_context = ssl._create_unverified_context\n",
    "except AttributeError:\n",
    "    pass\n",
    "else:\n",
    "    ssl._create_default_https_context = _create_unverified_https_context\n",
    "\n",
    "nltk.download('punkt')"
   ]
  },
  {
   "cell_type": "code",
   "execution_count": 98,
   "metadata": {},
   "outputs": [
    {
     "name": "stdout",
     "output_type": "stream",
     "text": [
      "970\n"
     ]
    },
    {
     "data": {
      "text/plain": [
       "['As the billionaire Mistry fuck fuck clan and the',\n",
       " 'Tata conglomerate head for a bitter split , they',\n",
       " 'are already preparing for their next battle : the',\n",
       " 'value of a stake in Tata Sons Pvt. , which is at',\n",
       " 'the center of India ’ s biggest corporate feud .',\n",
       " 'The Mistry family-owned Shapoorji Pallonji Group',\n",
       " 'holds 18.4 % of the holding company of the',\n",
       " 'software-to-trucks Tata empire , and wants to sell',\n",
       " 'it and raise funds for its own cash-strapped',\n",
       " 'businesses . It had previously sought to pledge',\n",
       " 'the shares as collateral , but was blocked this',\n",
       " 'week when Tata told the Supreme Court it was open',\n",
       " 'to buying the stock itself if Mistrys needed money',\n",
       " '. But the focus of the years-long dispute could',\n",
       " 'now shift to what each party thinks is the fair',\n",
       " 'valuation of the stake . While court filings peg',\n",
       " 'it at more than 1.5 trillion rupees ( $ 20.3',\n",
       " 'billion ) , the eventual deal value will depend on',\n",
       " 'which side can drive a hard bargain . The indebted',\n",
       " 'SP Group , with upcoming debt maturities , may',\n",
       " 'prefer a quick deal . Even at depressed valuations',\n",
       " ', it won ’ t be easy for the Tata Group or any',\n",
       " 'other investor to fork out such a sum at a time',\n",
       " 'when many economies , including India ’ s , have',\n",
       " 'been ravaged by the coronavirus pandemic . “ The',\n",
       " 'parting of ways will lie in the details as it is',\n",
       " 'not clear they will quickly agree to a valuation ,',\n",
       " '” said Shriram Subramanian , founder of proxy',\n",
       " 'advisory firm InGovern Research Services Pvt . in',\n",
       " 'Bangalore . “ Additionally , Tata group is in no',\n",
       " 'hurry while the SP group is hard-pressed for',\n",
       " 'funding. ” . Easy exit For outside investors , the',\n",
       " 'initial charm of buying into the holding company',\n",
       " 'of the $ 113 billion conglomerate quickly fades',\n",
       " 'when they see Tata Sons is closely held . The lack',\n",
       " 'of an easy exit may make it less appealing to',\n",
       " 'private equity investors or sovereign funds that',\n",
       " 'keep a sharp eye on returns . Any stakeholder in',\n",
       " 'Tata Sons , under the amended Articles of',\n",
       " 'Association , may be first required to offer its',\n",
       " 'equity to the Tatas before seeking out other',\n",
       " 'investors , according to a person familiar with',\n",
       " 'the matter and court documents . Tata Sons',\n",
       " 'declined to comment on the possible stake sale',\n",
       " 'while SP Group did not offer any immediate',\n",
       " 'comments . The potential disagreement over the',\n",
       " 'stake value is the latest chapter in a four-year-',\n",
       " 'old wrangle that started with a boardroom coup in',\n",
       " '2016 at Tata Sons . It led to the abrupt ouster of',\n",
       " 'Cyrus Mistry as Tata Group chairman and sparked',\n",
       " 'India ’ s biggest corporate battle . Cyrus , 52 ,',\n",
       " 'is the son of billionaire Pallonji Mistry , 91 ,',\n",
       " 'who controls the 155-year-old SP Group . After',\n",
       " 'succeeding Ratan Tata in 2012 as chairman of Tata',\n",
       " 'Sons , Cyrus Mistry sought to reduce the',\n",
       " 'conglomerate ’ s debt in ways that threatened to',\n",
       " 'undo the legacy of the Tata patriarch — who',\n",
       " 'spearheaded the purchases of Jaguar Land Rover and',\n",
       " 'British steelmaker Corus Group — resulting in his',\n",
       " 'removal . Tata Trusts — a collective of charities',\n",
       " 'headed by Tata Sons Chairman Emeritus Ratan Tata —',\n",
       " 'owns 66 % in Tata Sons but isn ’ t legally allowed',\n",
       " 'to buy more shares on their own . Tata , 82 , is',\n",
       " 'drawing up plans to seek out potential partners',\n",
       " 'that could buy out the Mistry family ’ s stake in',\n",
       " 'Tata Sons , people familiar with the matter said ,',\n",
       " 'asking not to be identified as the information is',\n",
       " 'private . Back in 2016 , days after Cyrus Mistry ’',\n",
       " 's removal , the Tata family trusts were assessing',\n",
       " 'the interest of sovereign wealth funds and other',\n",
       " 'long-term investors , but the Mistry family wasn ’',\n",
       " 't keen to sell at the time , people familiar with',\n",
       " 'the matter said then . Despite the challenges ,',\n",
       " 'the possibility of the Tata stake sale has buoyed',\n",
       " 'the stocks of SP Group ’ s listed firms . Sterling',\n",
       " '& Wilson Solar Ltd. has jumped 20 % in Mumbai',\n",
       " 'since the Mistry family announced its intention to',\n",
       " 'sell while Forbes & Co. has advanced almost 16 % .',\n",
       " 'Shock expulsion Since his shock expulsion , Cyrus',\n",
       " 'has filed legal challenges to his dismissal from',\n",
       " 'the board of Tata Sons and argued against Tata',\n",
       " 'Sons turning into a private limited company — a',\n",
       " 'move that has restricted the Mistry family ’ s',\n",
       " 'ability to sell its stake freely . Pallonji Mistry',\n",
       " 'has a net worth of $ 21.4 billion , most of it due',\n",
       " 'to his holding in the Tata Group , according to',\n",
       " 'the Bloomberg Billionaires Index . In a legal',\n",
       " 'battle over the status of the Tata stake , India ’',\n",
       " 's Supreme Court on Sept. 22 barred the Mistrys',\n",
       " 'from pledging or selling any Tata shares until',\n",
       " 'Oct. 28 , after Tata told the court it can buy the',\n",
       " 'Mistry family ’ s holdings if the latter needed',\n",
       " 'funds . Hours later , the SP Group signaled its',\n",
       " 'intent to sell , calling the Tata move “',\n",
       " 'vindictive ” and saying it “ believes that a',\n",
       " 'separation of interests would best serve all',\n",
       " 'stakeholder groups. ” The SP Group had 92.8',\n",
       " 'billion rupees in external debt at its main',\n",
       " 'holding vehicle , Shapoorji Pallonji and Company',\n",
       " 'Pvt. , as of end-February , according to Care',\n",
       " 'Ratings Ltd. , while the group-wide debt was',\n",
       " 'estimated to be more than 300 billion rupees as of',\n",
       " 'March 2019 . – Bloomberg Disclosure : Tata Group ’',\n",
       " 's chairman emeritus Ratan Tata is among the',\n",
       " 'distinguished founder-investors of ThePrint .',\n",
       " 'Please click here for details on investors .']"
      ]
     },
     "execution_count": 98,
     "metadata": {},
     "output_type": "execute_result"
    }
   ],
   "source": [
    "words = word_tokenize(text)\n",
    "\n",
    "print(len(words))\n",
    "\n",
    "\n",
    "import textwrap\n",
    "\n",
    "wrapper = textwrap.TextWrapper(width=50) \n",
    "word_list = wrapper.wrap(text=' '.join(words))\n",
    "word_list\n"
   ]
  },
  {
   "cell_type": "code",
   "execution_count": 99,
   "metadata": {},
   "outputs": [
    {
     "name": "stdout",
     "output_type": "stream",
     "text": [
      "451\n"
     ]
    }
   ],
   "source": [
    "words_to_remove = [\"4r5e\",\"5h1t\",\"5hit\",\"a55\",\"anal\",\"anus\",\"ar5e\",\"arrse\",\"arse\",\"ass\",\"ass-fucker\",\"asses\",\"assfucker\",\"assfukka\",\"asshole\",\"assholes\",\"asswhole\",\"a_s_s\",\"b!tch\",\"b00bs\",\"b17ch\",\"b1tch\",\"ballbag\",\"balls\",\"ballsack\",\"bastard\",\"beastial\",\"beastiality\",\"bellend\",\"bestial\",\"bestiality\",\"bi+ch\",\"biatch\",\"bitch\",\"bitcher\",\"bitchers\",\"bitches\",\"bitchin\",\"bitching\",\"bloody\",\"blow job\",\"blowjob\",\"blowjobs\",\"boiolas\",\"bollock\",\"bollok\",\"boner\",\"boob\",\"boobs\",\"booobs\",\"boooobs\",\"booooobs\",\"booooooobs\",\"breasts\",\"buceta\",\"bugger\",\"bum\",\"bunny fucker\",\"butt\",\"butthole\",\"buttmunch\",\"buttplug\",\"c0ck\",\"c0cksucker\",\"carpet muncher\",\"cawk\",\"chink\",\"cipa\",\"cl1t\",\"clit\",\"clitoris\",\"clits\",\"cnut\",\"cock\",\"cock-sucker\",\"cockface\",\"cockhead\",\"cockmunch\",\"cockmuncher\",\"cocks\",\"cocksuck \",\"cocksucked \",\"cocksucker\",\"cocksucking\",\"cocksucks \",\"cocksuka\",\"cocksukka\",\"cok\",\"cokmuncher\",\"coksucka\",\"coon\",\"cox\",\"crap\",\"cum\",\"cummer\",\"cumming\",\"cums\",\"cumshot\",\"cunilingus\",\"cunillingus\",\"cunnilingus\",\"cunt\",\"cuntlick \",\"cuntlicker \",\"cuntlicking \",\"cunts\",\"cyalis\",\"cyberfuc\",\"cyberfuck \",\"cyberfucked \",\"cyberfucker\",\"cyberfuckers\",\"cyberfucking \",\"d1ck\",\"damn\",\"dick\",\"dickhead\",\"dildo\",\"dildos\",\"dink\",\"dinks\",\"dirsa\",\"dlck\",\"dog-fucker\",\"doggin\",\"dogging\",\"donkeyribber\",\"doosh\",\"duche\",\"dyke\",\"ejaculate\",\"ejaculated\",\"ejaculates \",\"ejaculating \",\"ejaculatings\",\"ejaculation\",\"ejakulate\",\"f u c k\",\"f u c k e r\",\"f4nny\",\"fag\",\"fagging\",\"faggitt\",\"faggot\",\"faggs\",\"fagot\",\"fagots\",\"fags\",\"fanny\",\"fannyflaps\",\"fannyfucker\",\"fanyy\",\"fatass\",\"fcuk\",\"fcuker\",\"fcuking\",\"feck\",\"fecker\",\"felching\",\"fellate\",\"fellatio\",\"fingerfuck \",\"fingerfucked \",\"fingerfucker \",\"fingerfuckers\",\"fingerfucking \",\"fingerfucks \",\"fistfuck\",\"fistfucked \",\"fistfucker \",\"fistfuckers \",\"fistfucking \",\"fistfuckings \",\"fistfucks \",\"flange\",\"fook\",\"fooker\",\"fuck\",\"fucka\",\"fucked\",\"fucker\",\"fuckers\",\"fuckhead\",\"fuckheads\",\"fuckin\",\"fucking\",\"fuckings\",\"fuckingshitmotherfucker\",\"fuckme \",\"fucks\",\"fuckwhit\",\"fuckwit\",\"fudge packer\",\"fudgepacker\",\"fuk\",\"fuker\",\"fukker\",\"fukkin\",\"fuks\",\"fukwhit\",\"fukwit\",\"fux\",\"fux0r\",\"f_u_c_k\",\"gangbang\",\"gangbanged \",\"gangbangs \",\"gaylord\",\"gaysex\",\"goatse\",\"God\",\"god-dam\",\"god-damned\",\"goddamn\",\"goddamned\",\"hardcoresex \",\"hell\",\"heshe\",\"hoar\",\"hoare\",\"hoer\",\"homo\",\"hore\",\"horniest\",\"horny\",\"hotsex\",\"jack-off \",\"jackoff\",\"jap\",\"jerk-off \",\"jism\",\"jiz \",\"jizm \",\"jizz\",\"kawk\",\"knob\",\"knobead\",\"knobed\",\"knobend\",\"knobhead\",\"knobjocky\",\"knobjokey\",\"kock\",\"kondum\",\"kondums\",\"kum\",\"kummer\",\"kumming\",\"kums\",\"kunilingus\",\"l3i+ch\",\"l3itch\",\"labia\",\"lmfao\",\"lust\",\"lusting\",\"m0f0\",\"m0fo\",\"m45terbate\",\"ma5terb8\",\"ma5terbate\",\"masochist\",\"master-bate\",\"masterb8\",\"masterbat*\",\"masterbat3\",\"masterbate\",\"masterbation\",\"masterbations\",\"masturbate\",\"mo-fo\",\"mof0\",\"mofo\",\"mothafuck\",\"mothafucka\",\"mothafuckas\",\"mothafuckaz\",\"mothafucked \",\"mothafucker\",\"mothafuckers\",\"mothafuckin\",\"mothafucking \",\"mothafuckings\",\"mothafucks\",\"mother fucker\",\"motherfuck\",\"motherfucked\",\"motherfucker\",\"motherfuckers\",\"motherfuckin\",\"motherfucking\",\"motherfuckings\",\"motherfuckka\",\"motherfucks\",\"muff\",\"mutha\",\"muthafecker\",\"muthafuckker\",\"muther\",\"mutherfucker\",\"n1gga\",\"n1gger\",\"nazi\",\"nigg3r\",\"nigg4h\",\"nigga\",\"niggah\",\"niggas\",\"niggaz\",\"nigger\",\"niggers \",\"nob\",\"nob jokey\",\"nobhead\",\"nobjocky\",\"nobjokey\",\"numbnuts\",\"nutsack\",\"orgasim \",\"orgasims \",\"orgasm\",\"orgasms \",\"p0rn\",\"pawn\",\"pecker\",\"penis\",\"penisfucker\",\"phonesex\",\"phuck\",\"phuk\",\"phuked\",\"phuking\",\"phukked\",\"phukking\",\"phuks\",\"phuq\",\"pigfucker\",\"pimpis\",\"piss\",\"pissed\",\"pisser\",\"pissers\",\"pisses \",\"pissflaps\",\"pissin \",\"pissing\",\"pissoff \",\"poop\",\"porn\",\"porno\",\"pornography\",\"pornos\",\"prick\",\"pricks \",\"pron\",\"pube\",\"pusse\",\"pussi\",\"pussies\",\"pussy\",\"pussys \",\"rectum\",\"retard\",\"rimjaw\",\"rimming\",\"s hit\",\"s.o.b.\",\"sadist\",\"schlong\",\"screwing\",\"scroat\",\"scrote\",\"scrotum\",\"semen\",\"sex\",\"sh!+\",\"sh!t\",\"sh1t\",\"shag\",\"shagger\",\"shaggin\",\"shagging\",\"shemale\",\"shi+\",\"shit\",\"shitdick\",\"shite\",\"shited\",\"shitey\",\"shitfuck\",\"shitfull\",\"shithead\",\"shiting\",\"shitings\",\"shits\",\"shitted\",\"shitter\",\"shitters \",\"shitting\",\"shittings\",\"shitty \",\"skank\",\"slut\",\"sluts\",\"smegma\",\"smut\",\"snatch\",\"son-of-a-bitch\",\"spac\",\"spunk\",\"s_h_i_t\",\"t1tt1e5\",\"t1tties\",\"teets\",\"teez\",\"testical\",\"testicle\",\"tit\",\"titfuck\",\"tits\",\"titt\",\"tittie5\",\"tittiefucker\",\"titties\",\"tittyfuck\",\"tittywank\",\"titwank\",\"tosser\",\"turd\",\"tw4t\",\"twat\",\"twathead\",\"twatty\",\"twunt\",\"twunter\",\"v14gra\",\"v1gra\",\"vagina\",\"viagra\",\"vulva\",\"w00se\",\"wang\",\"wank\",\"wanker\",\"wanky\",\"whoar\",\"whore\",\"willies\",\"willy\",\"xrated\",\"xxx\"]\n",
    "print(len(words_to_remove))\n",
    "\n"
   ]
  },
  {
   "cell_type": "code",
   "execution_count": 100,
   "metadata": {},
   "outputs": [],
   "source": [
    "def are_bad_wrods_present(text):\n",
    "    words = word_tokenize(text)\n",
    "    for w in words:\n",
    "        if w in words_to_remove:\n",
    "            return True\n",
    "    return False"
   ]
  },
  {
   "cell_type": "code",
   "execution_count": 101,
   "metadata": {},
   "outputs": [
    {
     "data": {
      "text/plain": [
       "True"
      ]
     },
     "execution_count": 101,
     "metadata": {},
     "output_type": "execute_result"
    }
   ],
   "source": [
    "are_bad_wrods_present(\"fuck this assignment\")"
   ]
  },
  {
   "cell_type": "markdown",
   "metadata": {},
   "source": [
    "### Using reduce functions: "
   ]
  },
  {
   "cell_type": "code",
   "execution_count": 108,
   "metadata": {},
   "outputs": [
    {
     "name": "stdout",
     "output_type": "stream",
     "text": [
      "[0, 1, 2, 3, 4, 5, 6, 7, 8, 9]\n"
     ]
    },
    {
     "data": {
      "text/plain": [
       "20"
      ]
     },
     "execution_count": 108,
     "metadata": {},
     "output_type": "execute_result"
    }
   ],
   "source": [
    "#add only even numbers in a list\n",
    "from functools import reduce\n",
    "\n",
    "arr = [x for x in range(10)]\n",
    "print(arr)\n",
    "reduce(lambda a,b : a + b if b %2 == 0 else a, arr, 0)"
   ]
  },
  {
   "cell_type": "code",
   "execution_count": 111,
   "metadata": {},
   "outputs": [
    {
     "data": {
      "text/plain": [
       "'x'"
      ]
     },
     "execution_count": 111,
     "metadata": {},
     "output_type": "execute_result"
    }
   ],
   "source": [
    "#find the biggest character in a string\n",
    "s = \"abcdx\"\n",
    "reduce(lambda a, b : a if a>b else b, s)"
   ]
  },
  {
   "cell_type": "code",
   "execution_count": 121,
   "metadata": {},
   "outputs": [
    {
     "name": "stdout",
     "output_type": "stream",
     "text": [
      "[0, 1, 2, 3, 4, 5, 6, 7, 8]\n"
     ]
    },
    {
     "data": {
      "text/plain": [
       "15"
      ]
     },
     "execution_count": 121,
     "metadata": {},
     "output_type": "execute_result"
    }
   ],
   "source": [
    "#adds every 3rd number in a list\n",
    "arr = [x for x in range(9)]\n",
    "print(arr)\n",
    "reduce (lambda prev_sum, cur : prev_sum + cur[1] if (cur[0] + 1) % 3 == 0 else prev_sum, enumerate(arr), 0)"
   ]
  },
  {
   "cell_type": "markdown",
   "metadata": {},
   "source": [
    "### Using randint, random.choice and list comprehensions, write an expression that generates 15 random KADDAADDDD number plates, where KA is fixed, D stands for a digit, and A stands for Capital alphabets. 10<<DD<<99 & 1000<<DDDD<<9999"
   ]
  },
  {
   "cell_type": "code",
   "execution_count": 123,
   "metadata": {},
   "outputs": [
    {
     "name": "stdout",
     "output_type": "stream",
     "text": [
      "85\n"
     ]
    }
   ],
   "source": [
    "import random\n",
    "\n",
    "print(random.randint(10, 100))"
   ]
  },
  {
   "cell_type": "code",
   "execution_count": 125,
   "metadata": {},
   "outputs": [
    {
     "data": {
      "text/plain": [
       "'M'"
      ]
     },
     "execution_count": 125,
     "metadata": {},
     "output_type": "execute_result"
    }
   ],
   "source": [
    "s = \"ABCDEFGHIJKLMNOPQRSTUVWXYZ\"\n",
    "random.choices(s)[0]"
   ]
  },
  {
   "cell_type": "code",
   "execution_count": 127,
   "metadata": {},
   "outputs": [
    {
     "data": {
      "text/plain": [
       "'KA73WE6706'"
      ]
     },
     "execution_count": 127,
     "metadata": {},
     "output_type": "execute_result"
    }
   ],
   "source": [
    "gen = lambda : \"KA\" + str(random.randint(10, 100)) + random.choices(s)[0] + random.choices(s)[0] + str(random.randint(1000, 10000))\n",
    "gen()"
   ]
  },
  {
   "cell_type": "code",
   "execution_count": 128,
   "metadata": {},
   "outputs": [
    {
     "data": {
      "text/plain": [
       "['KA38QU8116',\n",
       " 'KA53LZ7824',\n",
       " 'KA71KF9651',\n",
       " 'KA89CN1787',\n",
       " 'KA87WZ6666',\n",
       " 'KA59MC7154',\n",
       " 'KA33QB9296',\n",
       " 'KA75KV7688',\n",
       " 'KA54KQ9812',\n",
       " 'KA72RS5595',\n",
       " 'KA59YC7938',\n",
       " 'KA23IZ3337',\n",
       " 'KA29CF3526',\n",
       " 'KA12ZT6096',\n",
       " 'KA84XD3878']"
      ]
     },
     "execution_count": 128,
     "metadata": {},
     "output_type": "execute_result"
    }
   ],
   "source": [
    "[gen() for x in range(15)]"
   ]
  },
  {
   "cell_type": "markdown",
   "metadata": {},
   "source": [
    "### Write the above again from scratch where KA can be changed to DL, and 1000/9999 ranges can be provided."
   ]
  },
  {
   "cell_type": "code",
   "execution_count": 132,
   "metadata": {},
   "outputs": [
    {
     "data": {
      "text/plain": [
       "['DL64QN3383',\n",
       " 'DL36AR4418',\n",
       " 'DL49MR3479',\n",
       " 'DL51BK4781',\n",
       " 'DL25NR6446',\n",
       " 'DL18EL2245',\n",
       " 'DL72DP8404',\n",
       " 'DL73GQ6423',\n",
       " 'DL38XB3772',\n",
       " 'DL95TO7780',\n",
       " 'DL63TN9107',\n",
       " 'DL16HW7633',\n",
       " 'DL84HG1542',\n",
       " 'DL25KU8239',\n",
       " 'DL34ZK1080']"
      ]
     },
     "execution_count": 132,
     "metadata": {},
     "output_type": "execute_result"
    }
   ],
   "source": [
    "[\"DL\" + str(random.randint(10, 100)) + random.choices(s)[0] + random.choices(s)[0] + str(random.randint(1000, 10000))\n",
    " for x in range(15)]"
   ]
  },
  {
   "cell_type": "code",
   "execution_count": null,
   "metadata": {},
   "outputs": [],
   "source": []
  }
 ],
 "metadata": {
  "kernelspec": {
   "display_name": "Python 3",
   "language": "python",
   "name": "python3"
  },
  "language_info": {
   "codemirror_mode": {
    "name": "ipython",
    "version": 3
   },
   "file_extension": ".py",
   "mimetype": "text/x-python",
   "name": "python",
   "nbconvert_exporter": "python",
   "pygments_lexer": "ipython3",
   "version": "3.8.3"
  }
 },
 "nbformat": 4,
 "nbformat_minor": 4
}
